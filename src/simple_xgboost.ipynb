{
 "cells": [
  {
   "cell_type": "markdown",
   "metadata": {},
   "source": [
    "### Load libraries"
   ]
  },
  {
   "cell_type": "code",
   "execution_count": 46,
   "metadata": {},
   "outputs": [],
   "source": [
    "library(xgboost)\n",
    "library(data.table)\n",
    "library(Metrics)"
   ]
  },
  {
   "cell_type": "markdown",
   "metadata": {},
   "source": [
    "### Load Data\n",
    "To simplify, let's read only `train.csv`"
   ]
  },
  {
   "cell_type": "code",
   "execution_count": 63,
   "metadata": {},
   "outputs": [
    {
     "data": {},
     "metadata": {},
     "output_type": "display_data"
    }
   ],
   "source": [
    "train = fread(\"../input/train.csv\", showProgress = TRUE)\n",
    "y_train = train$loss\n",
    "train[, c(\"id\", \"loss\") := NULL]"
   ]
  },
  {
   "cell_type": "markdown",
   "metadata": {},
   "source": [
    "### One hot encoding"
   ]
  },
  {
   "cell_type": "code",
   "execution_count": 37,
   "metadata": {},
   "outputs": [],
   "source": [
    "df = train\n",
    "\n",
    "for (f in features) {\n",
    "  if (class(df[[f]])==\"character\") {\n",
    "    levels <- sort(unique(df[[f]]))\n",
    "    df[[f]] <- as.integer(factor(df[[f]], levels=levels))\n",
    "  }\n",
    "}"
   ]
  },
  {
   "cell_type": "markdown",
   "metadata": {},
   "source": [
    "## train model"
   ]
  },
  {
   "cell_type": "code",
   "execution_count": 68,
   "metadata": {},
   "outputs": [],
   "source": [
    "set.seed(2017)\n",
    "\n",
    "dtrain = xgb.DMatrix(as.matrix(df), label=y_train)\n",
    "\n",
    "xgb_params = list(\n",
    "    objective='reg:linear', \n",
    "    eval_metric = \"mae\",\n",
    "    max_depth = 10\n",
    ")\n",
    "model = xgb.train(xgb_params, dtrain, nrounds=30, maximize = F)"
   ]
  },
  {
   "cell_type": "markdown",
   "metadata": {},
   "source": [
    "## predict model"
   ]
  },
  {
   "cell_type": "code",
   "execution_count": 69,
   "metadata": {},
   "outputs": [
    {
     "data": {
      "text/html": [
       "1000.23766229714"
      ],
      "text/latex": [
       "1000.23766229714"
      ],
      "text/markdown": [
       "1000.23766229714"
      ],
      "text/plain": [
       "[1] 1000.238"
      ]
     },
     "metadata": {},
     "output_type": "display_data"
    }
   ],
   "source": [
    "y_pred = predict(model,dtrain)\n",
    "mae(y_train, y_pred)"
   ]
  },
  {
   "cell_type": "markdown",
   "metadata": {},
   "source": [
    "## Any issues?"
   ]
  },
  {
   "cell_type": "code",
   "execution_count": null,
   "metadata": {},
   "outputs": [],
   "source": []
  },
  {
   "cell_type": "code",
   "execution_count": null,
   "metadata": {
    "collapsed": true
   },
   "outputs": [],
   "source": []
  },
  {
   "cell_type": "markdown",
   "metadata": {},
   "source": [
    "### Tips\n",
    "- validation\n",
    "- categorical variables"
   ]
  },
  {
   "cell_type": "code",
   "execution_count": null,
   "metadata": {
    "collapsed": true
   },
   "outputs": [],
   "source": []
  },
  {
   "cell_type": "code",
   "execution_count": null,
   "metadata": {
    "collapsed": true
   },
   "outputs": [],
   "source": []
  },
  {
   "cell_type": "markdown",
   "metadata": {},
   "source": [
    "###  k-fold Cross Validation"
   ]
  },
  {
   "cell_type": "code",
   "execution_count": 70,
   "metadata": {},
   "outputs": [
    {
     "name": "stdout",
     "output_type": "stream",
     "text": [
      "[1]\ttrain-mae:2153.059245+7.470566\ttest-mae:2158.650635+19.567839 \n",
      "[2]\ttrain-mae:1637.004964+6.762716\ttest-mae:1656.250366+17.548189 \n",
      "[3]\ttrain-mae:1375.164388+7.881921\ttest-mae:1412.830566+12.958487 \n",
      "[4]\ttrain-mae:1249.742432+9.041052\ttest-mae:1304.854492+10.572649 \n",
      "[5]\ttrain-mae:1185.916870+9.486604\ttest-mae:1258.568441+8.812283 \n",
      "[6]\ttrain-mae:1153.010539+9.291867\ttest-mae:1241.483805+9.637509 \n",
      "[7]\ttrain-mae:1133.609660+10.127964\ttest-mae:1234.950033+8.126698 \n",
      "[8]\ttrain-mae:1117.499715+10.801563\ttest-mae:1231.734416+6.997436 \n",
      "[9]\ttrain-mae:1104.506266+10.648119\ttest-mae:1230.018311+5.752851 \n",
      "[10]\ttrain-mae:1094.974528+8.493094\ttest-mae:1229.443156+6.860485 \n",
      "[11]\ttrain-mae:1085.386352+9.017015\ttest-mae:1228.035238+6.789870 \n",
      "[12]\ttrain-mae:1075.641561+9.897941\ttest-mae:1227.096436+5.976828 \n",
      "[13]\ttrain-mae:1067.792277+9.417031\ttest-mae:1225.805990+5.954158 \n",
      "[14]\ttrain-mae:1057.835246+8.166014\ttest-mae:1224.805827+6.278466 \n",
      "[15]\ttrain-mae:1048.299113+8.388607\ttest-mae:1223.641276+6.306052 \n",
      "[16]\ttrain-mae:1038.220703+8.781489\ttest-mae:1222.220419+6.484869 \n",
      "[17]\ttrain-mae:1030.421570+9.074062\ttest-mae:1221.733643+6.652218 \n",
      "[18]\ttrain-mae:1021.842122+10.672508\ttest-mae:1221.175456+6.506997 \n",
      "[19]\ttrain-mae:1016.214091+9.673961\ttest-mae:1221.179158+6.458173 \n",
      "[20]\ttrain-mae:1008.431864+10.489896\ttest-mae:1220.725830+6.037662 \n",
      "[21]\ttrain-mae:999.795512+8.431645\ttest-mae:1220.061727+6.980032 \n",
      "[22]\ttrain-mae:991.070719+9.775771\ttest-mae:1219.573324+7.085029 \n",
      "[23]\ttrain-mae:985.952962+10.117606\ttest-mae:1219.806234+6.863833 \n",
      "[24]\ttrain-mae:980.965108+11.419314\ttest-mae:1219.514852+6.670051 \n",
      "[25]\ttrain-mae:973.336080+10.223244\ttest-mae:1219.402913+6.399506 \n",
      "[26]\ttrain-mae:968.553670+9.699859\ttest-mae:1219.537760+6.481421 \n",
      "[27]\ttrain-mae:963.237569+9.671853\ttest-mae:1219.479248+6.477991 \n",
      "[28]\ttrain-mae:959.008118+10.069157\ttest-mae:1219.262573+6.140040 \n",
      "[29]\ttrain-mae:954.404399+9.098360\ttest-mae:1219.394857+5.920265 \n",
      "[30]\ttrain-mae:950.371114+8.015552\ttest-mae:1219.591471+6.345670 \n"
     ]
    }
   ],
   "source": [
    "res = xgb.cv(\n",
    "    xgb_params, \n",
    "    dtrain, \n",
    "    prediction =T,\n",
    "    nrounds=30, \n",
    "    nfold=3,\n",
    "    verbose=1\n",
    ")"
   ]
  },
  {
   "cell_type": "markdown",
   "metadata": {},
   "source": [
    "## Any issues?"
   ]
  },
  {
   "cell_type": "markdown",
   "metadata": {},
   "source": []
  },
  {
   "cell_type": "code",
   "execution_count": null,
   "metadata": {
    "collapsed": true
   },
   "outputs": [],
   "source": []
  },
  {
   "cell_type": "markdown",
   "metadata": {},
   "source": [
    "### Tips\n",
    "- compare train-mae vs test-mae"
   ]
  },
  {
   "cell_type": "code",
   "execution_count": null,
   "metadata": {
    "collapsed": true
   },
   "outputs": [],
   "source": []
  },
  {
   "cell_type": "code",
   "execution_count": null,
   "metadata": {
    "collapsed": true
   },
   "outputs": [],
   "source": []
  },
  {
   "cell_type": "markdown",
   "metadata": {},
   "source": [
    "Let's decrise `max_depth` from 10 to 5"
   ]
  },
  {
   "cell_type": "code",
   "execution_count": 81,
   "metadata": {},
   "outputs": [
    {
     "name": "stdout",
     "output_type": "stream",
     "text": [
      "[1]\ttrain-mae:2158.451172+3.542729\ttest-mae:2159.255208+8.664711 \n",
      "[2]\ttrain-mae:1680.657104+1.212815\ttest-mae:1683.335164+9.322993 \n",
      "[3]\ttrain-mae:1454.712931+0.562066\ttest-mae:1458.127319+7.882483 \n",
      "[4]\ttrain-mae:1359.080241+2.006828\ttest-mae:1364.622721+8.459649 \n",
      "[5]\ttrain-mae:1319.730754+0.707579\ttest-mae:1326.753255+5.642203 \n",
      "[6]\ttrain-mae:1298.236125+3.333178\ttest-mae:1307.390340+7.172061 \n",
      "[7]\ttrain-mae:1287.257528+0.949397\ttest-mae:1297.876058+4.524106 \n",
      "[8]\ttrain-mae:1280.598796+2.008944\ttest-mae:1292.802531+1.723555 \n",
      "[9]\ttrain-mae:1273.578532+1.936364\ttest-mae:1287.634359+1.978019 \n",
      "[10]\ttrain-mae:1266.206380+4.255002\ttest-mae:1281.524170+0.973047 \n",
      "[11]\ttrain-mae:1258.862468+3.048014\ttest-mae:1275.310873+1.915191 \n",
      "[12]\ttrain-mae:1252.787761+3.281192\ttest-mae:1270.040487+1.354098 \n",
      "[13]\ttrain-mae:1246.876221+3.881155\ttest-mae:1265.515625+2.816074 \n",
      "[14]\ttrain-mae:1242.045776+4.051238\ttest-mae:1261.715373+3.079416 \n",
      "[15]\ttrain-mae:1236.667765+3.425280\ttest-mae:1257.236410+2.521531 \n",
      "[16]\ttrain-mae:1231.141601+2.770231\ttest-mae:1252.733521+0.989526 \n",
      "[17]\ttrain-mae:1226.342285+3.378987\ttest-mae:1248.732992+1.303755 \n",
      "[18]\ttrain-mae:1222.397624+2.819161\ttest-mae:1245.396484+0.652600 \n",
      "[19]\ttrain-mae:1217.517781+2.985670\ttest-mae:1241.388224+0.351542 \n",
      "[20]\ttrain-mae:1213.751058+3.050749\ttest-mae:1238.496745+0.545960 \n",
      "[21]\ttrain-mae:1209.932861+3.172486\ttest-mae:1235.608032+0.197201 \n",
      "[22]\ttrain-mae:1207.166585+2.935569\ttest-mae:1233.478678+0.362371 \n",
      "[23]\ttrain-mae:1203.589966+2.509597\ttest-mae:1230.504557+1.168405 \n",
      "[24]\ttrain-mae:1200.242513+2.582439\ttest-mae:1227.879151+1.265040 \n",
      "[25]\ttrain-mae:1198.230916+2.348226\ttest-mae:1226.582479+1.495860 \n",
      "[26]\ttrain-mae:1196.226766+2.557183\ttest-mae:1225.410726+1.454171 \n",
      "[27]\ttrain-mae:1193.602254+2.502020\ttest-mae:1223.671427+1.359912 \n",
      "[28]\ttrain-mae:1191.448649+3.249187\ttest-mae:1222.388550+0.674638 \n",
      "[29]\ttrain-mae:1189.669271+3.118101\ttest-mae:1221.357381+0.431456 \n",
      "[30]\ttrain-mae:1187.720296+2.930431\ttest-mae:1220.232300+0.743852 \n"
     ]
    }
   ],
   "source": [
    "xgb_params = list(\n",
    "    objective='reg:linear', \n",
    "    eval_metric = \"mae\",\n",
    "    max_depth = 5\n",
    ")\n",
    "\n",
    "res = xgb.cv(\n",
    "    xgb_params, \n",
    "    dtrain, \n",
    "    prediction =T,\n",
    "    nrounds=30, \n",
    "    nfold=3,\n",
    "    verbose=1\n",
    ")"
   ]
  },
  {
   "cell_type": "code",
   "execution_count": null,
   "metadata": {
    "collapsed": true
   },
   "outputs": [],
   "source": []
  },
  {
   "cell_type": "markdown",
   "metadata": {},
   "source": [
    "### Play around with:\n",
    "- eta\n",
    "- subsample (0..1)\n",
    "- colsample_bytree (0..1)"
   ]
  },
  {
   "cell_type": "code",
   "execution_count": null,
   "metadata": {
    "collapsed": true
   },
   "outputs": [],
   "source": []
  },
  {
   "cell_type": "markdown",
   "metadata": {},
   "source": [
    "## Play around with target variable"
   ]
  },
  {
   "cell_type": "code",
   "execution_count": null,
   "metadata": {
    "collapsed": true
   },
   "outputs": [],
   "source": []
  },
  {
   "cell_type": "markdown",
   "metadata": {},
   "source": [
    "## Links\n",
    "* [xgboost docs](http://xgboost.readthedocs.io/en/latest/R-package/xgboostPresentation.html)\n",
    "* [tutorial #1](https://www.analyticsvidhya.com/blog/2016/01/xgboost-algorithm-easy-steps/), [tutorial #2](https://www.hackerearth.com/practice/machine-learning/machine-learning-algorithms/beginners-tutorial-on-xgboost-parameter-tuning-r/tutorial/)\n",
    "* [xbfi](https://github.com/Far0n/xgbfi) worth to check\n",
    " "
   ]
  },
  {
   "cell_type": "code",
   "execution_count": null,
   "metadata": {
    "collapsed": true
   },
   "outputs": [],
   "source": []
  }
 ],
 "metadata": {
  "kernelspec": {
   "display_name": "R",
   "language": "R",
   "name": "ir"
  },
  "language_info": {
   "codemirror_mode": "r",
   "file_extension": ".r",
   "mimetype": "text/x-r-source",
   "name": "R",
   "pygments_lexer": "r",
   "version": "3.4.1"
  }
 },
 "nbformat": 4,
 "nbformat_minor": 2
}
