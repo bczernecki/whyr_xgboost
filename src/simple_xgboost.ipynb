{
 "cells": [
  {
   "cell_type": "markdown",
   "metadata": {},
   "source": [
    "### Load libraries"
   ]
  },
  {
   "cell_type": "code",
   "execution_count": 46,
   "metadata": {},
   "outputs": [],
   "source": [
    "library(xgboost)\n",
    "library(data.table)\n",
    "library(Metrics)"
   ]
  },
  {
   "cell_type": "markdown",
   "metadata": {},
   "source": [
    "### Load Data\n",
    "To simplify, let's read only `train.csv`"
   ]
  },
  {
   "cell_type": "code",
   "execution_count": 118,
   "metadata": {
    "collapsed": true
   },
   "outputs": [],
   "source": [
    "train = fread(\"../input/train.csv\", showProgress = TRUE)"
   ]
  },
  {
   "cell_type": "markdown",
   "metadata": {},
   "source": [
    "Quick overview what is inside"
   ]
  },
  {
   "cell_type": "code",
   "execution_count": 119,
   "metadata": {},
   "outputs": [
    {
     "name": "stdout",
     "output_type": "stream",
     "text": [
      "Classes ‘data.table’ and 'data.frame':\t188318 obs. of  132 variables:\n",
      " $ id    : int  1 2 5 10 11 13 14 20 23 24 ...\n",
      " $ cat1  : chr  \"A\" \"A\" \"A\" \"B\" ...\n",
      " $ cat2  : chr  \"B\" \"B\" \"B\" \"B\" ...\n",
      " $ cat3  : chr  \"A\" \"A\" \"A\" \"A\" ...\n",
      " $ cat4  : chr  \"B\" \"A\" \"A\" \"B\" ...\n",
      " $ cat5  : chr  \"A\" \"A\" \"B\" \"A\" ...\n",
      " $ cat6  : chr  \"A\" \"A\" \"A\" \"A\" ...\n",
      " $ cat7  : chr  \"A\" \"A\" \"A\" \"A\" ...\n",
      " $ cat8  : chr  \"A\" \"A\" \"A\" \"A\" ...\n",
      " $ cat9  : chr  \"B\" \"B\" \"B\" \"B\" ...\n",
      " $ cat10 : chr  \"A\" \"B\" \"B\" \"A\" ...\n",
      " $ cat11 : chr  \"B\" \"A\" \"B\" \"A\" ...\n",
      " $ cat12 : chr  \"A\" \"A\" \"B\" \"A\" ...\n",
      " $ cat13 : chr  \"A\" \"A\" \"B\" \"A\" ...\n",
      " $ cat14 : chr  \"A\" \"A\" \"A\" \"A\" ...\n",
      " $ cat15 : chr  \"A\" \"A\" \"A\" \"A\" ...\n",
      " $ cat16 : chr  \"A\" \"A\" \"A\" \"A\" ...\n",
      " $ cat17 : chr  \"A\" \"A\" \"A\" \"A\" ...\n",
      " $ cat18 : chr  \"A\" \"A\" \"A\" \"A\" ...\n",
      " $ cat19 : chr  \"A\" \"A\" \"A\" \"A\" ...\n",
      " $ cat20 : chr  \"A\" \"A\" \"A\" \"A\" ...\n",
      " $ cat21 : chr  \"A\" \"A\" \"A\" \"A\" ...\n",
      " $ cat22 : chr  \"A\" \"A\" \"A\" \"A\" ...\n",
      " $ cat23 : chr  \"B\" \"A\" \"A\" \"B\" ...\n",
      " $ cat24 : chr  \"A\" \"A\" \"A\" \"A\" ...\n",
      " $ cat25 : chr  \"A\" \"A\" \"A\" \"A\" ...\n",
      " $ cat26 : chr  \"A\" \"A\" \"A\" \"A\" ...\n",
      " $ cat27 : chr  \"A\" \"A\" \"A\" \"A\" ...\n",
      " $ cat28 : chr  \"A\" \"A\" \"A\" \"A\" ...\n",
      " $ cat29 : chr  \"A\" \"A\" \"A\" \"A\" ...\n",
      " $ cat30 : chr  \"A\" \"A\" \"A\" \"A\" ...\n",
      " $ cat31 : chr  \"A\" \"A\" \"A\" \"A\" ...\n",
      " $ cat32 : chr  \"A\" \"A\" \"A\" \"A\" ...\n",
      " $ cat33 : chr  \"A\" \"A\" \"A\" \"A\" ...\n",
      " $ cat34 : chr  \"A\" \"A\" \"A\" \"A\" ...\n",
      " $ cat35 : chr  \"A\" \"A\" \"A\" \"A\" ...\n",
      " $ cat36 : chr  \"A\" \"A\" \"B\" \"A\" ...\n",
      " $ cat37 : chr  \"A\" \"A\" \"A\" \"A\" ...\n",
      " $ cat38 : chr  \"A\" \"A\" \"A\" \"A\" ...\n",
      " $ cat39 : chr  \"A\" \"A\" \"A\" \"A\" ...\n",
      " $ cat40 : chr  \"A\" \"A\" \"A\" \"A\" ...\n",
      " $ cat41 : chr  \"A\" \"A\" \"A\" \"A\" ...\n",
      " $ cat42 : chr  \"A\" \"A\" \"A\" \"A\" ...\n",
      " $ cat43 : chr  \"A\" \"A\" \"A\" \"A\" ...\n",
      " $ cat44 : chr  \"A\" \"A\" \"A\" \"A\" ...\n",
      " $ cat45 : chr  \"A\" \"A\" \"A\" \"A\" ...\n",
      " $ cat46 : chr  \"A\" \"A\" \"A\" \"A\" ...\n",
      " $ cat47 : chr  \"A\" \"A\" \"A\" \"A\" ...\n",
      " $ cat48 : chr  \"A\" \"A\" \"A\" \"A\" ...\n",
      " $ cat49 : chr  \"A\" \"A\" \"A\" \"A\" ...\n",
      " $ cat50 : chr  \"A\" \"A\" \"A\" \"A\" ...\n",
      " $ cat51 : chr  \"A\" \"A\" \"A\" \"A\" ...\n",
      " $ cat52 : chr  \"A\" \"A\" \"A\" \"A\" ...\n",
      " $ cat53 : chr  \"A\" \"A\" \"A\" \"A\" ...\n",
      " $ cat54 : chr  \"A\" \"A\" \"A\" \"A\" ...\n",
      " $ cat55 : chr  \"A\" \"A\" \"A\" \"A\" ...\n",
      " $ cat56 : chr  \"A\" \"A\" \"A\" \"A\" ...\n",
      " $ cat57 : chr  \"A\" \"A\" \"A\" \"A\" ...\n",
      " $ cat58 : chr  \"A\" \"A\" \"A\" \"A\" ...\n",
      " $ cat59 : chr  \"A\" \"A\" \"A\" \"A\" ...\n",
      " $ cat60 : chr  \"A\" \"A\" \"A\" \"A\" ...\n",
      " $ cat61 : chr  \"A\" \"A\" \"A\" \"A\" ...\n",
      " $ cat62 : chr  \"A\" \"A\" \"A\" \"A\" ...\n",
      " $ cat63 : chr  \"A\" \"A\" \"A\" \"A\" ...\n",
      " $ cat64 : chr  \"A\" \"A\" \"A\" \"A\" ...\n",
      " $ cat65 : chr  \"A\" \"A\" \"A\" \"A\" ...\n",
      " $ cat66 : chr  \"A\" \"A\" \"A\" \"A\" ...\n",
      " $ cat67 : chr  \"A\" \"A\" \"A\" \"A\" ...\n",
      " $ cat68 : chr  \"A\" \"A\" \"A\" \"A\" ...\n",
      " $ cat69 : chr  \"A\" \"A\" \"A\" \"A\" ...\n",
      " $ cat70 : chr  \"A\" \"A\" \"A\" \"A\" ...\n",
      " $ cat71 : chr  \"A\" \"A\" \"A\" \"A\" ...\n",
      " $ cat72 : chr  \"A\" \"A\" \"A\" \"A\" ...\n",
      " $ cat73 : chr  \"A\" \"A\" \"A\" \"B\" ...\n",
      " $ cat74 : chr  \"A\" \"A\" \"A\" \"A\" ...\n",
      " $ cat75 : chr  \"B\" \"A\" \"A\" \"A\" ...\n",
      " $ cat76 : chr  \"A\" \"A\" \"A\" \"A\" ...\n",
      " $ cat77 : chr  \"D\" \"D\" \"D\" \"D\" ...\n",
      " $ cat78 : chr  \"B\" \"B\" \"B\" \"B\" ...\n",
      " $ cat79 : chr  \"B\" \"B\" \"B\" \"B\" ...\n",
      " $ cat80 : chr  \"D\" \"D\" \"B\" \"D\" ...\n",
      " $ cat81 : chr  \"D\" \"D\" \"D\" \"D\" ...\n",
      " $ cat82 : chr  \"B\" \"A\" \"B\" \"D\" ...\n",
      " $ cat83 : chr  \"D\" \"B\" \"D\" \"B\" ...\n",
      " $ cat84 : chr  \"C\" \"C\" \"C\" \"C\" ...\n",
      " $ cat85 : chr  \"B\" \"B\" \"B\" \"B\" ...\n",
      " $ cat86 : chr  \"D\" \"D\" \"B\" \"D\" ...\n",
      " $ cat87 : chr  \"B\" \"B\" \"B\" \"B\" ...\n",
      " $ cat88 : chr  \"A\" \"A\" \"A\" \"A\" ...\n",
      " $ cat89 : chr  \"A\" \"A\" \"A\" \"A\" ...\n",
      " $ cat90 : chr  \"A\" \"A\" \"A\" \"A\" ...\n",
      " $ cat91 : chr  \"A\" \"A\" \"A\" \"A\" ...\n",
      " $ cat92 : chr  \"A\" \"A\" \"A\" \"A\" ...\n",
      " $ cat93 : chr  \"D\" \"D\" \"D\" \"D\" ...\n",
      " $ cat94 : chr  \"B\" \"D\" \"D\" \"D\" ...\n",
      " $ cat95 : chr  \"C\" \"C\" \"C\" \"C\" ...\n",
      " $ cat96 : chr  \"E\" \"E\" \"E\" \"E\" ...\n",
      " $ cat97 : chr  \"A\" \"E\" \"E\" \"E\" ...\n",
      " $ cat98 : chr  \"C\" \"D\" \"A\" \"D\" ...\n",
      "  [list output truncated]\n",
      " - attr(*, \".internal.selfref\")=<externalptr> \n"
     ]
    }
   ],
   "source": [
    "str(train)"
   ]
  },
  {
   "cell_type": "code",
   "execution_count": 107,
   "metadata": {},
   "outputs": [
    {
     "data": {
      "text/plain": [
       "     cat1               cat2               cat3               cat4          \n",
       " Length:188318      Length:188318      Length:188318      Length:188318     \n",
       " Class :character   Class :character   Class :character   Class :character  \n",
       " Mode  :character   Mode  :character   Mode  :character   Mode  :character  \n",
       "                                                                            \n",
       "                                                                            \n",
       "                                                                            \n",
       "     cat5               cat6               cat7               cat8          \n",
       " Length:188318      Length:188318      Length:188318      Length:188318     \n",
       " Class :character   Class :character   Class :character   Class :character  \n",
       " Mode  :character   Mode  :character   Mode  :character   Mode  :character  \n",
       "                                                                            \n",
       "                                                                            \n",
       "                                                                            \n",
       "     cat9              cat10              cat11              cat12          \n",
       " Length:188318      Length:188318      Length:188318      Length:188318     \n",
       " Class :character   Class :character   Class :character   Class :character  \n",
       " Mode  :character   Mode  :character   Mode  :character   Mode  :character  \n",
       "                                                                            \n",
       "                                                                            \n",
       "                                                                            \n",
       "    cat13              cat14              cat15              cat16          \n",
       " Length:188318      Length:188318      Length:188318      Length:188318     \n",
       " Class :character   Class :character   Class :character   Class :character  \n",
       " Mode  :character   Mode  :character   Mode  :character   Mode  :character  \n",
       "                                                                            \n",
       "                                                                            \n",
       "                                                                            \n",
       "    cat17              cat18              cat19              cat20          \n",
       " Length:188318      Length:188318      Length:188318      Length:188318     \n",
       " Class :character   Class :character   Class :character   Class :character  \n",
       " Mode  :character   Mode  :character   Mode  :character   Mode  :character  \n",
       "                                                                            \n",
       "                                                                            \n",
       "                                                                            \n",
       "    cat21              cat22              cat23              cat24          \n",
       " Length:188318      Length:188318      Length:188318      Length:188318     \n",
       " Class :character   Class :character   Class :character   Class :character  \n",
       " Mode  :character   Mode  :character   Mode  :character   Mode  :character  \n",
       "                                                                            \n",
       "                                                                            \n",
       "                                                                            \n",
       "    cat25              cat26              cat27              cat28          \n",
       " Length:188318      Length:188318      Length:188318      Length:188318     \n",
       " Class :character   Class :character   Class :character   Class :character  \n",
       " Mode  :character   Mode  :character   Mode  :character   Mode  :character  \n",
       "                                                                            \n",
       "                                                                            \n",
       "                                                                            \n",
       "    cat29              cat30              cat31              cat32          \n",
       " Length:188318      Length:188318      Length:188318      Length:188318     \n",
       " Class :character   Class :character   Class :character   Class :character  \n",
       " Mode  :character   Mode  :character   Mode  :character   Mode  :character  \n",
       "                                                                            \n",
       "                                                                            \n",
       "                                                                            \n",
       "    cat33              cat34              cat35              cat36          \n",
       " Length:188318      Length:188318      Length:188318      Length:188318     \n",
       " Class :character   Class :character   Class :character   Class :character  \n",
       " Mode  :character   Mode  :character   Mode  :character   Mode  :character  \n",
       "                                                                            \n",
       "                                                                            \n",
       "                                                                            \n",
       "    cat37              cat38              cat39              cat40          \n",
       " Length:188318      Length:188318      Length:188318      Length:188318     \n",
       " Class :character   Class :character   Class :character   Class :character  \n",
       " Mode  :character   Mode  :character   Mode  :character   Mode  :character  \n",
       "                                                                            \n",
       "                                                                            \n",
       "                                                                            \n",
       "    cat41              cat42              cat43              cat44          \n",
       " Length:188318      Length:188318      Length:188318      Length:188318     \n",
       " Class :character   Class :character   Class :character   Class :character  \n",
       " Mode  :character   Mode  :character   Mode  :character   Mode  :character  \n",
       "                                                                            \n",
       "                                                                            \n",
       "                                                                            \n",
       "    cat45              cat46              cat47              cat48          \n",
       " Length:188318      Length:188318      Length:188318      Length:188318     \n",
       " Class :character   Class :character   Class :character   Class :character  \n",
       " Mode  :character   Mode  :character   Mode  :character   Mode  :character  \n",
       "                                                                            \n",
       "                                                                            \n",
       "                                                                            \n",
       "    cat49              cat50              cat51              cat52          \n",
       " Length:188318      Length:188318      Length:188318      Length:188318     \n",
       " Class :character   Class :character   Class :character   Class :character  \n",
       " Mode  :character   Mode  :character   Mode  :character   Mode  :character  \n",
       "                                                                            \n",
       "                                                                            \n",
       "                                                                            \n",
       "    cat53              cat54              cat55              cat56          \n",
       " Length:188318      Length:188318      Length:188318      Length:188318     \n",
       " Class :character   Class :character   Class :character   Class :character  \n",
       " Mode  :character   Mode  :character   Mode  :character   Mode  :character  \n",
       "                                                                            \n",
       "                                                                            \n",
       "                                                                            \n",
       "    cat57              cat58              cat59              cat60          \n",
       " Length:188318      Length:188318      Length:188318      Length:188318     \n",
       " Class :character   Class :character   Class :character   Class :character  \n",
       " Mode  :character   Mode  :character   Mode  :character   Mode  :character  \n",
       "                                                                            \n",
       "                                                                            \n",
       "                                                                            \n",
       "    cat61              cat62              cat63              cat64          \n",
       " Length:188318      Length:188318      Length:188318      Length:188318     \n",
       " Class :character   Class :character   Class :character   Class :character  \n",
       " Mode  :character   Mode  :character   Mode  :character   Mode  :character  \n",
       "                                                                            \n",
       "                                                                            \n",
       "                                                                            \n",
       "    cat65              cat66              cat67              cat68          \n",
       " Length:188318      Length:188318      Length:188318      Length:188318     \n",
       " Class :character   Class :character   Class :character   Class :character  \n",
       " Mode  :character   Mode  :character   Mode  :character   Mode  :character  \n",
       "                                                                            \n",
       "                                                                            \n",
       "                                                                            \n",
       "    cat69              cat70              cat71              cat72          \n",
       " Length:188318      Length:188318      Length:188318      Length:188318     \n",
       " Class :character   Class :character   Class :character   Class :character  \n",
       " Mode  :character   Mode  :character   Mode  :character   Mode  :character  \n",
       "                                                                            \n",
       "                                                                            \n",
       "                                                                            \n",
       "    cat73              cat74              cat75              cat76          \n",
       " Length:188318      Length:188318      Length:188318      Length:188318     \n",
       " Class :character   Class :character   Class :character   Class :character  \n",
       " Mode  :character   Mode  :character   Mode  :character   Mode  :character  \n",
       "                                                                            \n",
       "                                                                            \n",
       "                                                                            \n",
       "    cat77              cat78              cat79              cat80          \n",
       " Length:188318      Length:188318      Length:188318      Length:188318     \n",
       " Class :character   Class :character   Class :character   Class :character  \n",
       " Mode  :character   Mode  :character   Mode  :character   Mode  :character  \n",
       "                                                                            \n",
       "                                                                            \n",
       "                                                                            \n",
       "    cat81              cat82              cat83              cat84          \n",
       " Length:188318      Length:188318      Length:188318      Length:188318     \n",
       " Class :character   Class :character   Class :character   Class :character  \n",
       " Mode  :character   Mode  :character   Mode  :character   Mode  :character  \n",
       "                                                                            \n",
       "                                                                            \n",
       "                                                                            \n",
       "    cat85              cat86              cat87              cat88          \n",
       " Length:188318      Length:188318      Length:188318      Length:188318     \n",
       " Class :character   Class :character   Class :character   Class :character  \n",
       " Mode  :character   Mode  :character   Mode  :character   Mode  :character  \n",
       "                                                                            \n",
       "                                                                            \n",
       "                                                                            \n",
       "    cat89              cat90              cat91              cat92          \n",
       " Length:188318      Length:188318      Length:188318      Length:188318     \n",
       " Class :character   Class :character   Class :character   Class :character  \n",
       " Mode  :character   Mode  :character   Mode  :character   Mode  :character  \n",
       "                                                                            \n",
       "                                                                            \n",
       "                                                                            \n",
       "    cat93              cat94              cat95              cat96          \n",
       " Length:188318      Length:188318      Length:188318      Length:188318     \n",
       " Class :character   Class :character   Class :character   Class :character  \n",
       " Mode  :character   Mode  :character   Mode  :character   Mode  :character  \n",
       "                                                                            \n",
       "                                                                            \n",
       "                                                                            \n",
       "    cat97              cat98              cat99              cat100         \n",
       " Length:188318      Length:188318      Length:188318      Length:188318     \n",
       " Class :character   Class :character   Class :character   Class :character  \n",
       " Mode  :character   Mode  :character   Mode  :character   Mode  :character  \n",
       "                                                                            \n",
       "                                                                            \n",
       "                                                                            \n",
       "    cat101             cat102             cat103             cat104         \n",
       " Length:188318      Length:188318      Length:188318      Length:188318     \n",
       " Class :character   Class :character   Class :character   Class :character  \n",
       " Mode  :character   Mode  :character   Mode  :character   Mode  :character  \n",
       "                                                                            \n",
       "                                                                            \n",
       "                                                                            \n",
       "    cat105             cat106             cat107             cat108         \n",
       " Length:188318      Length:188318      Length:188318      Length:188318     \n",
       " Class :character   Class :character   Class :character   Class :character  \n",
       " Mode  :character   Mode  :character   Mode  :character   Mode  :character  \n",
       "                                                                            \n",
       "                                                                            \n",
       "                                                                            \n",
       "    cat109             cat110             cat111             cat112         \n",
       " Length:188318      Length:188318      Length:188318      Length:188318     \n",
       " Class :character   Class :character   Class :character   Class :character  \n",
       " Mode  :character   Mode  :character   Mode  :character   Mode  :character  \n",
       "                                                                            \n",
       "                                                                            \n",
       "                                                                            \n",
       "    cat113             cat114             cat115             cat116         \n",
       " Length:188318      Length:188318      Length:188318      Length:188318     \n",
       " Class :character   Class :character   Class :character   Class :character  \n",
       " Mode  :character   Mode  :character   Mode  :character   Mode  :character  \n",
       "                                                                            \n",
       "                                                                            \n",
       "                                                                            \n",
       "     cont1              cont2              cont3              cont4       \n",
       " Min.   :0.000016   Min.   :0.001149   Min.   :0.002634   Min.   :0.1769  \n",
       " 1st Qu.:0.346090   1st Qu.:0.358319   1st Qu.:0.336963   1st Qu.:0.3274  \n",
       " Median :0.475784   Median :0.555782   Median :0.527991   Median :0.4529  \n",
       " Mean   :0.493861   Mean   :0.507188   Mean   :0.498918   Mean   :0.4918  \n",
       " 3rd Qu.:0.623912   3rd Qu.:0.681761   3rd Qu.:0.634224   3rd Qu.:0.6521  \n",
       " Max.   :0.984975   Max.   :0.862654   Max.   :0.944251   Max.   :0.9543  \n",
       "     cont5            cont6             cont7            cont8       \n",
       " Min.   :0.2811   Min.   :0.01268   Min.   :0.0695   Min.   :0.2369  \n",
       " 1st Qu.:0.2811   1st Qu.:0.33610   1st Qu.:0.3502   1st Qu.:0.3128  \n",
       " Median :0.4223   Median :0.44094   Median :0.4383   Median :0.4411  \n",
       " Mean   :0.4874   Mean   :0.49094   Mean   :0.4850   Mean   :0.4864  \n",
       " 3rd Qu.:0.6433   3rd Qu.:0.65502   3rd Qu.:0.5910   3rd Qu.:0.6236  \n",
       " Max.   :0.9837   Max.   :0.99716   Max.   :1.0000   Max.   :0.9802  \n",
       "     cont9             cont10           cont11            cont12       \n",
       " Min.   :0.00008   Min.   :0.0000   Min.   :0.03532   Min.   :0.03623  \n",
       " 1st Qu.:0.35897   1st Qu.:0.3646   1st Qu.:0.31096   1st Qu.:0.31166  \n",
       " Median :0.44145   Median :0.4612   Median :0.45720   Median :0.46229  \n",
       " Mean   :0.48551   Mean   :0.4981   Mean   :0.49351   Mean   :0.49315  \n",
       " 3rd Qu.:0.56682   3rd Qu.:0.6146   3rd Qu.:0.67892   3rd Qu.:0.67576  \n",
       " Max.   :0.99540   Max.   :0.9950   Max.   :0.99874   Max.   :0.99848  \n",
       "     cont13             cont14      \n",
       " Min.   :0.000228   Min.   :0.1797  \n",
       " 1st Qu.:0.315758   1st Qu.:0.2946  \n",
       " Median :0.363547   Median :0.4074  \n",
       " Mean   :0.493138   Mean   :0.4957  \n",
       " 3rd Qu.:0.689974   3rd Qu.:0.7246  \n",
       " Max.   :0.988494   Max.   :0.8448  "
      ]
     },
     "metadata": {},
     "output_type": "display_data"
    }
   ],
   "source": [
    "summary(train)"
   ]
  },
  {
   "cell_type": "code",
   "execution_count": 112,
   "metadata": {},
   "outputs": [
    {
     "data": {
      "text/html": [
       "<table>\n",
       "<thead><tr><th scope=col>cat1</th><th scope=col>cat2</th><th scope=col>cat3</th><th scope=col>cat4</th><th scope=col>cat5</th><th scope=col>cat6</th><th scope=col>cat7</th><th scope=col>cat8</th><th scope=col>cat9</th><th scope=col>cat10</th><th scope=col>⋯</th><th scope=col>cont5</th><th scope=col>cont6</th><th scope=col>cont7</th><th scope=col>cont8</th><th scope=col>cont9</th><th scope=col>cont10</th><th scope=col>cont11</th><th scope=col>cont12</th><th scope=col>cont13</th><th scope=col>cont14</th></tr></thead>\n",
       "<tbody>\n",
       "\t<tr><td>A       </td><td>B       </td><td>A       </td><td>B       </td><td>A       </td><td>A       </td><td>A       </td><td>A       </td><td>B       </td><td>A       </td><td>⋯       </td><td>0.310061</td><td>0.718367</td><td>0.335060</td><td>0.30260 </td><td>0.67135 </td><td>0.83510 </td><td>0.569745</td><td>0.594646</td><td>0.822493</td><td>0.714843</td></tr>\n",
       "\t<tr><td>A       </td><td>B       </td><td>A       </td><td>A       </td><td>A       </td><td>A       </td><td>A       </td><td>A       </td><td>B       </td><td>B       </td><td>⋯       </td><td>0.885834</td><td>0.438917</td><td>0.436585</td><td>0.60087 </td><td>0.35127 </td><td>0.43919 </td><td>0.338312</td><td>0.366307</td><td>0.611431</td><td>0.304496</td></tr>\n",
       "\t<tr><td>A       </td><td>B       </td><td>A       </td><td>A       </td><td>B       </td><td>A       </td><td>A       </td><td>A       </td><td>B       </td><td>B       </td><td>⋯       </td><td>0.397069</td><td>0.289648</td><td>0.315545</td><td>0.27320 </td><td>0.26076 </td><td>0.32446 </td><td>0.381398</td><td>0.373424</td><td>0.195709</td><td>0.774425</td></tr>\n",
       "\t<tr><td>B       </td><td>B       </td><td>A       </td><td>B       </td><td>A       </td><td>A       </td><td>A       </td><td>A       </td><td>B       </td><td>A       </td><td>⋯       </td><td>0.422268</td><td>0.440945</td><td>0.391128</td><td>0.31796 </td><td>0.32128 </td><td>0.44467 </td><td>0.327915</td><td>0.321570</td><td>0.605077</td><td>0.602642</td></tr>\n",
       "\t<tr><td>A       </td><td>B       </td><td>A       </td><td>B       </td><td>A       </td><td>A       </td><td>A       </td><td>A       </td><td>B       </td><td>B       </td><td>⋯       </td><td>0.704268</td><td>0.178193</td><td>0.247408</td><td>0.24564 </td><td>0.22089 </td><td>0.21230 </td><td>0.204687</td><td>0.202213</td><td>0.246011</td><td>0.432606</td></tr>\n",
       "\t<tr><td>A       </td><td>B       </td><td>A       </td><td>A       </td><td>A       </td><td>A       </td><td>A       </td><td>A       </td><td>B       </td><td>A       </td><td>⋯       </td><td>0.302678</td><td>0.364464</td><td>0.401162</td><td>0.26847 </td><td>0.46226 </td><td>0.50556 </td><td>0.366788</td><td>0.359249</td><td>0.345247</td><td>0.726792</td></tr>\n",
       "</tbody>\n",
       "</table>\n"
      ],
      "text/latex": [
       "\\begin{tabular}{r|llllllllllllllllllllllllllllllllllllllllllllllllllllllllllllllllllllllllllllllllllllllllllllllllllllllllllllllllllllllllllllllllll}\n",
       " cat1 & cat2 & cat3 & cat4 & cat5 & cat6 & cat7 & cat8 & cat9 & cat10 & ⋯ & cont5 & cont6 & cont7 & cont8 & cont9 & cont10 & cont11 & cont12 & cont13 & cont14\\\\\n",
       "\\hline\n",
       "\t A        & B        & A        & B        & A        & A        & A        & A        & B        & A        & ⋯        & 0.310061 & 0.718367 & 0.335060 & 0.30260  & 0.67135  & 0.83510  & 0.569745 & 0.594646 & 0.822493 & 0.714843\\\\\n",
       "\t A        & B        & A        & A        & A        & A        & A        & A        & B        & B        & ⋯        & 0.885834 & 0.438917 & 0.436585 & 0.60087  & 0.35127  & 0.43919  & 0.338312 & 0.366307 & 0.611431 & 0.304496\\\\\n",
       "\t A        & B        & A        & A        & B        & A        & A        & A        & B        & B        & ⋯        & 0.397069 & 0.289648 & 0.315545 & 0.27320  & 0.26076  & 0.32446  & 0.381398 & 0.373424 & 0.195709 & 0.774425\\\\\n",
       "\t B        & B        & A        & B        & A        & A        & A        & A        & B        & A        & ⋯        & 0.422268 & 0.440945 & 0.391128 & 0.31796  & 0.32128  & 0.44467  & 0.327915 & 0.321570 & 0.605077 & 0.602642\\\\\n",
       "\t A        & B        & A        & B        & A        & A        & A        & A        & B        & B        & ⋯        & 0.704268 & 0.178193 & 0.247408 & 0.24564  & 0.22089  & 0.21230  & 0.204687 & 0.202213 & 0.246011 & 0.432606\\\\\n",
       "\t A        & B        & A        & A        & A        & A        & A        & A        & B        & A        & ⋯        & 0.302678 & 0.364464 & 0.401162 & 0.26847  & 0.46226  & 0.50556  & 0.366788 & 0.359249 & 0.345247 & 0.726792\\\\\n",
       "\\end{tabular}\n"
      ],
      "text/markdown": [
       "\n",
       "cat1 | cat2 | cat3 | cat4 | cat5 | cat6 | cat7 | cat8 | cat9 | cat10 | ⋯ | cont5 | cont6 | cont7 | cont8 | cont9 | cont10 | cont11 | cont12 | cont13 | cont14 | \n",
       "|---|---|---|---|---|---|\n",
       "| A        | B        | A        | B        | A        | A        | A        | A        | B        | A        | ⋯        | 0.310061 | 0.718367 | 0.335060 | 0.30260  | 0.67135  | 0.83510  | 0.569745 | 0.594646 | 0.822493 | 0.714843 | \n",
       "| A        | B        | A        | A        | A        | A        | A        | A        | B        | B        | ⋯        | 0.885834 | 0.438917 | 0.436585 | 0.60087  | 0.35127  | 0.43919  | 0.338312 | 0.366307 | 0.611431 | 0.304496 | \n",
       "| A        | B        | A        | A        | B        | A        | A        | A        | B        | B        | ⋯        | 0.397069 | 0.289648 | 0.315545 | 0.27320  | 0.26076  | 0.32446  | 0.381398 | 0.373424 | 0.195709 | 0.774425 | \n",
       "| B        | B        | A        | B        | A        | A        | A        | A        | B        | A        | ⋯        | 0.422268 | 0.440945 | 0.391128 | 0.31796  | 0.32128  | 0.44467  | 0.327915 | 0.321570 | 0.605077 | 0.602642 | \n",
       "| A        | B        | A        | B        | A        | A        | A        | A        | B        | B        | ⋯        | 0.704268 | 0.178193 | 0.247408 | 0.24564  | 0.22089  | 0.21230  | 0.204687 | 0.202213 | 0.246011 | 0.432606 | \n",
       "| A        | B        | A        | A        | A        | A        | A        | A        | B        | A        | ⋯        | 0.302678 | 0.364464 | 0.401162 | 0.26847  | 0.46226  | 0.50556  | 0.366788 | 0.359249 | 0.345247 | 0.726792 | \n",
       "\n",
       "\n"
      ],
      "text/plain": [
       "  cat1 cat2 cat3 cat4 cat5 cat6 cat7 cat8 cat9 cat10 ⋯ cont5    cont6   \n",
       "1 A    B    A    B    A    A    A    A    B    A     ⋯ 0.310061 0.718367\n",
       "2 A    B    A    A    A    A    A    A    B    B     ⋯ 0.885834 0.438917\n",
       "3 A    B    A    A    B    A    A    A    B    B     ⋯ 0.397069 0.289648\n",
       "4 B    B    A    B    A    A    A    A    B    A     ⋯ 0.422268 0.440945\n",
       "5 A    B    A    B    A    A    A    A    B    B     ⋯ 0.704268 0.178193\n",
       "6 A    B    A    A    A    A    A    A    B    A     ⋯ 0.302678 0.364464\n",
       "  cont7    cont8   cont9   cont10  cont11   cont12   cont13   cont14  \n",
       "1 0.335060 0.30260 0.67135 0.83510 0.569745 0.594646 0.822493 0.714843\n",
       "2 0.436585 0.60087 0.35127 0.43919 0.338312 0.366307 0.611431 0.304496\n",
       "3 0.315545 0.27320 0.26076 0.32446 0.381398 0.373424 0.195709 0.774425\n",
       "4 0.391128 0.31796 0.32128 0.44467 0.327915 0.321570 0.605077 0.602642\n",
       "5 0.247408 0.24564 0.22089 0.21230 0.204687 0.202213 0.246011 0.432606\n",
       "6 0.401162 0.26847 0.46226 0.50556 0.366788 0.359249 0.345247 0.726792"
      ]
     },
     "metadata": {},
     "output_type": "display_data"
    }
   ],
   "source": [
    "head(train)"
   ]
  },
  {
   "cell_type": "markdown",
   "metadata": {},
   "source": [
    "## Questions\n",
    "1. how many observations (columns)?\n",
    "2. how many variables (features/rows)?\n",
    "3. are there missing values?\n",
    "4. what type of varialbes do you have?\n",
    "5. what is the target variable?\n",
    "6. how looks like the distribution a target variable?\n",
    "7. what about high-cardinality?"
   ]
  },
  {
   "cell_type": "markdown",
   "metadata": {},
   "source": [
    "### Let's visualize a bit"
   ]
  },
  {
   "cell_type": "code",
   "execution_count": 141,
   "metadata": {},
   "outputs": [
    {
     "data": {},
     "metadata": {},
     "output_type": "display_data"
    },
    {
     "data": {
      "image/png": "[encoded data removed]",
      "text/plain": [
       "plot without title"
      ]
     },
     "metadata": {},
     "output_type": "display_data"
    }
   ],
   "source": [
    "options(repr.plot.width=8, repr.plot.height=3)\n",
    "ggplot(train, aes(x = loss)) + geom_histogram(bins = 100, fill = \"blue\") + theme_bw()"
   ]
  },
  {
   "cell_type": "markdown",
   "metadata": {},
   "source": [
    "### Any thoughts?"
   ]
  },
  {
   "cell_type": "code",
   "execution_count": null,
   "metadata": {
    "collapsed": true
   },
   "outputs": [],
   "source": []
  },
  {
   "cell_type": "markdown",
   "metadata": {},
   "source": [
    "## Prepare to modeling"
   ]
  },
  {
   "cell_type": "code",
   "execution_count": null,
   "metadata": {
    "collapsed": true
   },
   "outputs": [],
   "source": [
    "y_train = train$loss\n",
    "train[, c(\"id\", \"loss\") := NULL]"
   ]
  },
  {
   "cell_type": "markdown",
   "metadata": {},
   "source": [
    "XGBoost works only with numerical calues... any other should be converated to numerical."
   ]
  },
  {
   "cell_type": "markdown",
   "metadata": {},
   "source": [
    "### Categorical into numerical"
   ]
  },
  {
   "cell_type": "code",
   "execution_count": 37,
   "metadata": {},
   "outputs": [],
   "source": [
    "df = train\n",
    "\n",
    "for (f in features) {\n",
    "  if (class(df[[f]])==\"character\") {\n",
    "    levels <- sort(unique(df[[f]]))\n",
    "    df[[f]] <- as.integer(factor(df[[f]], levels=levels))\n",
    "  }\n",
    "}"
   ]
  },
  {
   "cell_type": "markdown",
   "metadata": {},
   "source": [
    "## one hot encoding\n",
    "can be slow..."
   ]
  },
  {
   "cell_type": "code",
   "execution_count": 163,
   "metadata": {},
   "outputs": [],
   "source": [
    "oh.train = train\n",
    "\n",
    "for (f in names(train)[names(train) %like% \"^cat\"]) {\n",
    "    dmy <- dummyVars(sprintf(\" ~ %s\", f), data = train)\n",
    "    newDum <- data.table(predict(dmy, newdata = train))\n",
    "    \n",
    "    oh.train = cbind(oh.train, newDum)\n",
    "}"
   ]
  },
  {
   "cell_type": "markdown",
   "metadata": {},
   "source": [
    "## train model"
   ]
  },
  {
   "cell_type": "code",
   "execution_count": 68,
   "metadata": {},
   "outputs": [],
   "source": [
    "set.seed(2017)\n",
    "\n",
    "dtrain = xgb.DMatrix(as.matrix(df), label=y_train)\n",
    "\n",
    "xgb_params = list(\n",
    "    objective='reg:linear', \n",
    "    eval_metric = \"mae\",\n",
    "    max_depth = 10\n",
    ")\n",
    "model = xgb.train(xgb_params, dtrain, nrounds=30, maximize = F)"
   ]
  },
  {
   "cell_type": "markdown",
   "metadata": {},
   "source": [
    "## predict model"
   ]
  },
  {
   "cell_type": "code",
   "execution_count": 69,
   "metadata": {},
   "outputs": [
    {
     "data": {
      "text/html": [
       "1000.23766229714"
      ],
      "text/latex": [
       "1000.23766229714"
      ],
      "text/markdown": [
       "1000.23766229714"
      ],
      "text/plain": [
       "[1] 1000.238"
      ]
     },
     "metadata": {},
     "output_type": "display_data"
    }
   ],
   "source": [
    "y_pred = predict(model,dtrain)\n",
    "mae(y_train, y_pred)"
   ]
  },
  {
   "cell_type": "markdown",
   "metadata": {},
   "source": [
    "## Any issues?"
   ]
  },
  {
   "cell_type": "code",
   "execution_count": null,
   "metadata": {},
   "outputs": [],
   "source": []
  },
  {
   "cell_type": "code",
   "execution_count": null,
   "metadata": {
    "collapsed": true
   },
   "outputs": [],
   "source": []
  },
  {
   "cell_type": "markdown",
   "metadata": {},
   "source": [
    "### Tips\n",
    "- validation"
   ]
  },
  {
   "cell_type": "code",
   "execution_count": null,
   "metadata": {
    "collapsed": true
   },
   "outputs": [],
   "source": []
  },
  {
   "cell_type": "code",
   "execution_count": null,
   "metadata": {
    "collapsed": true
   },
   "outputs": [],
   "source": []
  },
  {
   "cell_type": "markdown",
   "metadata": {},
   "source": [
    "###  k-fold Cross Validation"
   ]
  },
  {
   "cell_type": "code",
   "execution_count": 70,
   "metadata": {},
   "outputs": [
    {
     "name": "stdout",
     "output_type": "stream",
     "text": [
      "[1]\ttrain-mae:2153.059245+7.470566\ttest-mae:2158.650635+19.567839 \n",
      "[2]\ttrain-mae:1637.004964+6.762716\ttest-mae:1656.250366+17.548189 \n",
      "[3]\ttrain-mae:1375.164388+7.881921\ttest-mae:1412.830566+12.958487 \n",
      "[4]\ttrain-mae:1249.742432+9.041052\ttest-mae:1304.854492+10.572649 \n",
      "[5]\ttrain-mae:1185.916870+9.486604\ttest-mae:1258.568441+8.812283 \n",
      "[6]\ttrain-mae:1153.010539+9.291867\ttest-mae:1241.483805+9.637509 \n",
      "[7]\ttrain-mae:1133.609660+10.127964\ttest-mae:1234.950033+8.126698 \n",
      "[8]\ttrain-mae:1117.499715+10.801563\ttest-mae:1231.734416+6.997436 \n",
      "[9]\ttrain-mae:1104.506266+10.648119\ttest-mae:1230.018311+5.752851 \n",
      "[10]\ttrain-mae:1094.974528+8.493094\ttest-mae:1229.443156+6.860485 \n",
      "[11]\ttrain-mae:1085.386352+9.017015\ttest-mae:1228.035238+6.789870 \n",
      "[12]\ttrain-mae:1075.641561+9.897941\ttest-mae:1227.096436+5.976828 \n",
      "[13]\ttrain-mae:1067.792277+9.417031\ttest-mae:1225.805990+5.954158 \n",
      "[14]\ttrain-mae:1057.835246+8.166014\ttest-mae:1224.805827+6.278466 \n",
      "[15]\ttrain-mae:1048.299113+8.388607\ttest-mae:1223.641276+6.306052 \n",
      "[16]\ttrain-mae:1038.220703+8.781489\ttest-mae:1222.220419+6.484869 \n",
      "[17]\ttrain-mae:1030.421570+9.074062\ttest-mae:1221.733643+6.652218 \n",
      "[18]\ttrain-mae:1021.842122+10.672508\ttest-mae:1221.175456+6.506997 \n",
      "[19]\ttrain-mae:1016.214091+9.673961\ttest-mae:1221.179158+6.458173 \n",
      "[20]\ttrain-mae:1008.431864+10.489896\ttest-mae:1220.725830+6.037662 \n",
      "[21]\ttrain-mae:999.795512+8.431645\ttest-mae:1220.061727+6.980032 \n",
      "[22]\ttrain-mae:991.070719+9.775771\ttest-mae:1219.573324+7.085029 \n",
      "[23]\ttrain-mae:985.952962+10.117606\ttest-mae:1219.806234+6.863833 \n",
      "[24]\ttrain-mae:980.965108+11.419314\ttest-mae:1219.514852+6.670051 \n",
      "[25]\ttrain-mae:973.336080+10.223244\ttest-mae:1219.402913+6.399506 \n",
      "[26]\ttrain-mae:968.553670+9.699859\ttest-mae:1219.537760+6.481421 \n",
      "[27]\ttrain-mae:963.237569+9.671853\ttest-mae:1219.479248+6.477991 \n",
      "[28]\ttrain-mae:959.008118+10.069157\ttest-mae:1219.262573+6.140040 \n",
      "[29]\ttrain-mae:954.404399+9.098360\ttest-mae:1219.394857+5.920265 \n",
      "[30]\ttrain-mae:950.371114+8.015552\ttest-mae:1219.591471+6.345670 \n"
     ]
    }
   ],
   "source": [
    "res = xgb.cv(\n",
    "    xgb_params, \n",
    "    dtrain, \n",
    "    prediction =T,\n",
    "    nrounds=30, \n",
    "    nfold=3,\n",
    "    verbose=1\n",
    ")"
   ]
  },
  {
   "cell_type": "markdown",
   "metadata": {},
   "source": [
    "## Any issues?"
   ]
  },
  {
   "cell_type": "markdown",
   "metadata": {},
   "source": []
  },
  {
   "cell_type": "code",
   "execution_count": null,
   "metadata": {
    "collapsed": true
   },
   "outputs": [],
   "source": []
  },
  {
   "cell_type": "markdown",
   "metadata": {},
   "source": [
    "### Tips\n",
    "- compare train-mae vs test-mae"
   ]
  },
  {
   "cell_type": "code",
   "execution_count": null,
   "metadata": {
    "collapsed": true
   },
   "outputs": [],
   "source": []
  },
  {
   "cell_type": "code",
   "execution_count": null,
   "metadata": {
    "collapsed": true
   },
   "outputs": [],
   "source": []
  },
  {
   "cell_type": "markdown",
   "metadata": {},
   "source": [
    "Let's decrise `max_depth` from 10 to 5"
   ]
  },
  {
   "cell_type": "code",
   "execution_count": 81,
   "metadata": {},
   "outputs": [
    {
     "name": "stdout",
     "output_type": "stream",
     "text": [
      "[1]\ttrain-mae:2158.451172+3.542729\ttest-mae:2159.255208+8.664711 \n",
      "[2]\ttrain-mae:1680.657104+1.212815\ttest-mae:1683.335164+9.322993 \n",
      "[3]\ttrain-mae:1454.712931+0.562066\ttest-mae:1458.127319+7.882483 \n",
      "[4]\ttrain-mae:1359.080241+2.006828\ttest-mae:1364.622721+8.459649 \n",
      "[5]\ttrain-mae:1319.730754+0.707579\ttest-mae:1326.753255+5.642203 \n",
      "[6]\ttrain-mae:1298.236125+3.333178\ttest-mae:1307.390340+7.172061 \n",
      "[7]\ttrain-mae:1287.257528+0.949397\ttest-mae:1297.876058+4.524106 \n",
      "[8]\ttrain-mae:1280.598796+2.008944\ttest-mae:1292.802531+1.723555 \n",
      "[9]\ttrain-mae:1273.578532+1.936364\ttest-mae:1287.634359+1.978019 \n",
      "[10]\ttrain-mae:1266.206380+4.255002\ttest-mae:1281.524170+0.973047 \n",
      "[11]\ttrain-mae:1258.862468+3.048014\ttest-mae:1275.310873+1.915191 \n",
      "[12]\ttrain-mae:1252.787761+3.281192\ttest-mae:1270.040487+1.354098 \n",
      "[13]\ttrain-mae:1246.876221+3.881155\ttest-mae:1265.515625+2.816074 \n",
      "[14]\ttrain-mae:1242.045776+4.051238\ttest-mae:1261.715373+3.079416 \n",
      "[15]\ttrain-mae:1236.667765+3.425280\ttest-mae:1257.236410+2.521531 \n",
      "[16]\ttrain-mae:1231.141601+2.770231\ttest-mae:1252.733521+0.989526 \n",
      "[17]\ttrain-mae:1226.342285+3.378987\ttest-mae:1248.732992+1.303755 \n",
      "[18]\ttrain-mae:1222.397624+2.819161\ttest-mae:1245.396484+0.652600 \n",
      "[19]\ttrain-mae:1217.517781+2.985670\ttest-mae:1241.388224+0.351542 \n",
      "[20]\ttrain-mae:1213.751058+3.050749\ttest-mae:1238.496745+0.545960 \n",
      "[21]\ttrain-mae:1209.932861+3.172486\ttest-mae:1235.608032+0.197201 \n",
      "[22]\ttrain-mae:1207.166585+2.935569\ttest-mae:1233.478678+0.362371 \n",
      "[23]\ttrain-mae:1203.589966+2.509597\ttest-mae:1230.504557+1.168405 \n",
      "[24]\ttrain-mae:1200.242513+2.582439\ttest-mae:1227.879151+1.265040 \n",
      "[25]\ttrain-mae:1198.230916+2.348226\ttest-mae:1226.582479+1.495860 \n",
      "[26]\ttrain-mae:1196.226766+2.557183\ttest-mae:1225.410726+1.454171 \n",
      "[27]\ttrain-mae:1193.602254+2.502020\ttest-mae:1223.671427+1.359912 \n",
      "[28]\ttrain-mae:1191.448649+3.249187\ttest-mae:1222.388550+0.674638 \n",
      "[29]\ttrain-mae:1189.669271+3.118101\ttest-mae:1221.357381+0.431456 \n",
      "[30]\ttrain-mae:1187.720296+2.930431\ttest-mae:1220.232300+0.743852 \n"
     ]
    }
   ],
   "source": [
    "xgb_params = list(\n",
    "    objective='reg:linear', \n",
    "    eval_metric = \"mae\",\n",
    "    max_depth = 5\n",
    ")\n",
    "\n",
    "res = xgb.cv(\n",
    "    xgb_params, \n",
    "    dtrain, \n",
    "    prediction =T,\n",
    "    nrounds=30, \n",
    "    nfold=3,\n",
    "    verbose=1\n",
    ")"
   ]
  },
  {
   "cell_type": "code",
   "execution_count": null,
   "metadata": {
    "collapsed": true
   },
   "outputs": [],
   "source": []
  },
  {
   "cell_type": "markdown",
   "metadata": {},
   "source": [
    "### Play around with:\n",
    "- eta\n",
    "- subsample (0..1)\n",
    "- colsample_bytree (0..1)"
   ]
  },
  {
   "cell_type": "code",
   "execution_count": null,
   "metadata": {
    "collapsed": true
   },
   "outputs": [],
   "source": []
  },
  {
   "cell_type": "markdown",
   "metadata": {},
   "source": [
    "## Play around with target variable"
   ]
  },
  {
   "cell_type": "code",
   "execution_count": 164,
   "metadata": {
    "collapsed": true
   },
   "outputs": [],
   "source": [
    "#tips: check ggplot + scale_y_log10()"
   ]
  },
  {
   "cell_type": "markdown",
   "metadata": {},
   "source": [
    "## Links\n",
    "* [xgboost docs](http://xgboost.readthedocs.io/en/latest/R-package/xgboostPresentation.html)\n",
    "* [tutorial #1](https://www.analyticsvidhya.com/blog/2016/01/xgboost-algorithm-easy-steps/), [tutorial #2](https://www.hackerearth.com/practice/machine-learning/machine-learning-algorithms/beginners-tutorial-on-xgboost-parameter-tuning-r/tutorial/)\n",
    "* [xbfi](https://github.com/Far0n/xgbfi) worth to check\n",
    " "
   ]
  },
  {
   "cell_type": "code",
   "execution_count": null,
   "metadata": {
    "collapsed": true
   },
   "outputs": [],
   "source": []
  }
 ],
 "metadata": {
  "kernelspec": {
   "display_name": "R",
   "language": "R",
   "name": "ir"
  },
  "language_info": {
   "codemirror_mode": "r",
   "file_extension": ".r",
   "mimetype": "text/x-r-source",
   "name": "R",
   "pygments_lexer": "r",
   "version": "3.4.1"
  }
 },
 "nbformat": 4,
 "nbformat_minor": 2
}
